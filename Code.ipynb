{
 "cells": [
  {
   "cell_type": "markdown",
   "id": "3094cd12",
   "metadata": {},
   "source": [
    "# Importing libraries"
   ]
  },
  {
   "cell_type": "code",
   "execution_count": 80,
   "id": "088df330",
   "metadata": {},
   "outputs": [],
   "source": [
    "import pandas as pd\n",
    "import numpy as np\n",
    "from matplotlib import pyplot as plt\n",
    "import string as s\n",
    "import re\n",
    "import nltk\n",
    "from datetime import datetime\n",
    "from sklearn.model_selection import train_test_split\n",
    "from keras.preprocessing.sequence import pad_sequences\n",
    "from keras.utils import to_categorical\n",
    "from keras import Sequential\n",
    "from keras import layers as l\n",
    "from keras.regularizers import l2\n",
    "from keras.preprocessing.text import Tokenizer\n",
    "from keras.callbacks import EarlyStopping\n",
    "from keras.utils import plot_model\n",
    "from sklearn.metrics import classification_report"
   ]
  },
  {
   "cell_type": "code",
   "execution_count": 81,
   "id": "12655960",
   "metadata": {},
   "outputs": [],
   "source": [
    "startTime = datetime.now()"
   ]
  },
  {
   "cell_type": "markdown",
   "id": "cd18a2ea",
   "metadata": {},
   "source": [
    "# Importing data"
   ]
  },
  {
   "cell_type": "markdown",
   "id": "9d421df2",
   "metadata": {},
   "source": [
    "Importing data source. <br>\n",
    "Source: https://github.com/t-davidson/hate-speech-and-offensive-language <br>\n",
    "Classes: 0 - hate speech 1 - offensive language 2 - neither"
   ]
  },
  {
   "cell_type": "code",
   "execution_count": 82,
   "id": "b3396098",
   "metadata": {
    "scrolled": true
   },
   "outputs": [
    {
     "data": {
      "text/html": [
       "<div>\n",
       "<style scoped>\n",
       "    .dataframe tbody tr th:only-of-type {\n",
       "        vertical-align: middle;\n",
       "    }\n",
       "\n",
       "    .dataframe tbody tr th {\n",
       "        vertical-align: top;\n",
       "    }\n",
       "\n",
       "    .dataframe thead th {\n",
       "        text-align: right;\n",
       "    }\n",
       "</style>\n",
       "<table border=\"1\" class=\"dataframe\">\n",
       "  <thead>\n",
       "    <tr style=\"text-align: right;\">\n",
       "      <th></th>\n",
       "      <th>count</th>\n",
       "      <th>hate_speech</th>\n",
       "      <th>offensive_language</th>\n",
       "      <th>neither</th>\n",
       "      <th>class</th>\n",
       "      <th>tweet</th>\n",
       "    </tr>\n",
       "  </thead>\n",
       "  <tbody>\n",
       "    <tr>\n",
       "      <th>0</th>\n",
       "      <td>3</td>\n",
       "      <td>0</td>\n",
       "      <td>0</td>\n",
       "      <td>3</td>\n",
       "      <td>2</td>\n",
       "      <td>!!! RT @mayasolovely: As a woman you shouldn't...</td>\n",
       "    </tr>\n",
       "    <tr>\n",
       "      <th>1</th>\n",
       "      <td>3</td>\n",
       "      <td>0</td>\n",
       "      <td>3</td>\n",
       "      <td>0</td>\n",
       "      <td>1</td>\n",
       "      <td>!!!!! RT @mleew17: boy dats cold...tyga dwn ba...</td>\n",
       "    </tr>\n",
       "    <tr>\n",
       "      <th>2</th>\n",
       "      <td>3</td>\n",
       "      <td>0</td>\n",
       "      <td>3</td>\n",
       "      <td>0</td>\n",
       "      <td>1</td>\n",
       "      <td>!!!!!!! RT @UrKindOfBrand Dawg!!!! RT @80sbaby...</td>\n",
       "    </tr>\n",
       "    <tr>\n",
       "      <th>3</th>\n",
       "      <td>3</td>\n",
       "      <td>0</td>\n",
       "      <td>2</td>\n",
       "      <td>1</td>\n",
       "      <td>1</td>\n",
       "      <td>!!!!!!!!! RT @C_G_Anderson: @viva_based she lo...</td>\n",
       "    </tr>\n",
       "    <tr>\n",
       "      <th>4</th>\n",
       "      <td>6</td>\n",
       "      <td>0</td>\n",
       "      <td>6</td>\n",
       "      <td>0</td>\n",
       "      <td>1</td>\n",
       "      <td>!!!!!!!!!!!!! RT @ShenikaRoberts: The shit you...</td>\n",
       "    </tr>\n",
       "    <tr>\n",
       "      <th>...</th>\n",
       "      <td>...</td>\n",
       "      <td>...</td>\n",
       "      <td>...</td>\n",
       "      <td>...</td>\n",
       "      <td>...</td>\n",
       "      <td>...</td>\n",
       "    </tr>\n",
       "    <tr>\n",
       "      <th>24778</th>\n",
       "      <td>3</td>\n",
       "      <td>0</td>\n",
       "      <td>2</td>\n",
       "      <td>1</td>\n",
       "      <td>1</td>\n",
       "      <td>you's a muthaf***in lie &amp;#8220;@LifeAsKing: @2...</td>\n",
       "    </tr>\n",
       "    <tr>\n",
       "      <th>24779</th>\n",
       "      <td>3</td>\n",
       "      <td>0</td>\n",
       "      <td>1</td>\n",
       "      <td>2</td>\n",
       "      <td>2</td>\n",
       "      <td>you've gone and broke the wrong heart baby, an...</td>\n",
       "    </tr>\n",
       "    <tr>\n",
       "      <th>24780</th>\n",
       "      <td>3</td>\n",
       "      <td>0</td>\n",
       "      <td>3</td>\n",
       "      <td>0</td>\n",
       "      <td>1</td>\n",
       "      <td>young buck wanna eat!!.. dat nigguh like I ain...</td>\n",
       "    </tr>\n",
       "    <tr>\n",
       "      <th>24781</th>\n",
       "      <td>6</td>\n",
       "      <td>0</td>\n",
       "      <td>6</td>\n",
       "      <td>0</td>\n",
       "      <td>1</td>\n",
       "      <td>youu got wild bitches tellin you lies</td>\n",
       "    </tr>\n",
       "    <tr>\n",
       "      <th>24782</th>\n",
       "      <td>3</td>\n",
       "      <td>0</td>\n",
       "      <td>0</td>\n",
       "      <td>3</td>\n",
       "      <td>2</td>\n",
       "      <td>~~Ruffled | Ntac Eileen Dahlia - Beautiful col...</td>\n",
       "    </tr>\n",
       "  </tbody>\n",
       "</table>\n",
       "<p>24783 rows × 6 columns</p>\n",
       "</div>"
      ],
      "text/plain": [
       "       count  hate_speech  offensive_language  neither  class  \\\n",
       "0          3            0                   0        3      2   \n",
       "1          3            0                   3        0      1   \n",
       "2          3            0                   3        0      1   \n",
       "3          3            0                   2        1      1   \n",
       "4          6            0                   6        0      1   \n",
       "...      ...          ...                 ...      ...    ...   \n",
       "24778      3            0                   2        1      1   \n",
       "24779      3            0                   1        2      2   \n",
       "24780      3            0                   3        0      1   \n",
       "24781      6            0                   6        0      1   \n",
       "24782      3            0                   0        3      2   \n",
       "\n",
       "                                                   tweet  \n",
       "0      !!! RT @mayasolovely: As a woman you shouldn't...  \n",
       "1      !!!!! RT @mleew17: boy dats cold...tyga dwn ba...  \n",
       "2      !!!!!!! RT @UrKindOfBrand Dawg!!!! RT @80sbaby...  \n",
       "3      !!!!!!!!! RT @C_G_Anderson: @viva_based she lo...  \n",
       "4      !!!!!!!!!!!!! RT @ShenikaRoberts: The shit you...  \n",
       "...                                                  ...  \n",
       "24778  you's a muthaf***in lie &#8220;@LifeAsKing: @2...  \n",
       "24779  you've gone and broke the wrong heart baby, an...  \n",
       "24780  young buck wanna eat!!.. dat nigguh like I ain...  \n",
       "24781              youu got wild bitches tellin you lies  \n",
       "24782  ~~Ruffled | Ntac Eileen Dahlia - Beautiful col...  \n",
       "\n",
       "[24783 rows x 6 columns]"
      ]
     },
     "execution_count": 82,
     "metadata": {},
     "output_type": "execute_result"
    }
   ],
   "source": [
    "df = pd.read_csv(\"labeled_data.txt\", delimiter=\",\")\n",
    "df = df.iloc[: , 1:]\n",
    "df"
   ]
  },
  {
   "cell_type": "code",
   "execution_count": 83,
   "id": "52166637",
   "metadata": {
    "scrolled": false
   },
   "outputs": [
    {
     "data": {
      "text/html": [
       "<div>\n",
       "<style scoped>\n",
       "    .dataframe tbody tr th:only-of-type {\n",
       "        vertical-align: middle;\n",
       "    }\n",
       "\n",
       "    .dataframe tbody tr th {\n",
       "        vertical-align: top;\n",
       "    }\n",
       "\n",
       "    .dataframe thead th {\n",
       "        text-align: right;\n",
       "    }\n",
       "</style>\n",
       "<table border=\"1\" class=\"dataframe\">\n",
       "  <thead>\n",
       "    <tr style=\"text-align: right;\">\n",
       "      <th></th>\n",
       "      <th>class</th>\n",
       "      <th>tweet</th>\n",
       "    </tr>\n",
       "  </thead>\n",
       "  <tbody>\n",
       "    <tr>\n",
       "      <th>0</th>\n",
       "      <td>2</td>\n",
       "      <td>!!! RT @mayasolovely: As a woman you shouldn't...</td>\n",
       "    </tr>\n",
       "    <tr>\n",
       "      <th>1</th>\n",
       "      <td>1</td>\n",
       "      <td>!!!!! RT @mleew17: boy dats cold...tyga dwn ba...</td>\n",
       "    </tr>\n",
       "    <tr>\n",
       "      <th>2</th>\n",
       "      <td>1</td>\n",
       "      <td>!!!!!!! RT @UrKindOfBrand Dawg!!!! RT @80sbaby...</td>\n",
       "    </tr>\n",
       "    <tr>\n",
       "      <th>3</th>\n",
       "      <td>1</td>\n",
       "      <td>!!!!!!!!! RT @C_G_Anderson: @viva_based she lo...</td>\n",
       "    </tr>\n",
       "    <tr>\n",
       "      <th>4</th>\n",
       "      <td>1</td>\n",
       "      <td>!!!!!!!!!!!!! RT @ShenikaRoberts: The shit you...</td>\n",
       "    </tr>\n",
       "  </tbody>\n",
       "</table>\n",
       "</div>"
      ],
      "text/plain": [
       "   class                                              tweet\n",
       "0      2  !!! RT @mayasolovely: As a woman you shouldn't...\n",
       "1      1  !!!!! RT @mleew17: boy dats cold...tyga dwn ba...\n",
       "2      1  !!!!!!! RT @UrKindOfBrand Dawg!!!! RT @80sbaby...\n",
       "3      1  !!!!!!!!! RT @C_G_Anderson: @viva_based she lo...\n",
       "4      1  !!!!!!!!!!!!! RT @ShenikaRoberts: The shit you..."
      ]
     },
     "execution_count": 83,
     "metadata": {},
     "output_type": "execute_result"
    }
   ],
   "source": [
    "df.drop([\"count\", \"hate_speech\", \"offensive_language\", \"neither\"], axis=1, inplace=True)\n",
    "df.head()"
   ]
  },
  {
   "cell_type": "markdown",
   "id": "d7ea2bd4",
   "metadata": {},
   "source": [
    "# Exploration of data"
   ]
  },
  {
   "cell_type": "code",
   "execution_count": 84,
   "id": "8b333e1c",
   "metadata": {},
   "outputs": [
    {
     "data": {
      "text/plain": [
       "(24783, 2)"
      ]
     },
     "execution_count": 84,
     "metadata": {},
     "output_type": "execute_result"
    }
   ],
   "source": [
    "df.shape"
   ]
  },
  {
   "cell_type": "code",
   "execution_count": 85,
   "id": "f57965b1",
   "metadata": {},
   "outputs": [
    {
     "data": {
      "text/plain": [
       "class     int64\n",
       "tweet    object\n",
       "dtype: object"
      ]
     },
     "execution_count": 85,
     "metadata": {},
     "output_type": "execute_result"
    }
   ],
   "source": [
    "df.dtypes"
   ]
  },
  {
   "cell_type": "code",
   "execution_count": 86,
   "id": "30affc8c",
   "metadata": {
    "scrolled": true
   },
   "outputs": [
    {
     "data": {
      "text/plain": [
       "class    0\n",
       "tweet    0\n",
       "dtype: int64"
      ]
     },
     "execution_count": 86,
     "metadata": {},
     "output_type": "execute_result"
    }
   ],
   "source": [
    "df.isnull().sum()"
   ]
  },
  {
   "cell_type": "code",
   "execution_count": 87,
   "id": "ea5a7a2e",
   "metadata": {},
   "outputs": [
    {
     "data": {
      "text/plain": [
       "(24783,)"
      ]
     },
     "execution_count": 87,
     "metadata": {},
     "output_type": "execute_result"
    }
   ],
   "source": [
    "df.shape[:1]"
   ]
  },
  {
   "cell_type": "code",
   "execution_count": 88,
   "id": "34a586c0",
   "metadata": {},
   "outputs": [
    {
     "data": {
      "text/html": [
       "<div>\n",
       "<style scoped>\n",
       "    .dataframe tbody tr th:only-of-type {\n",
       "        vertical-align: middle;\n",
       "    }\n",
       "\n",
       "    .dataframe tbody tr th {\n",
       "        vertical-align: top;\n",
       "    }\n",
       "\n",
       "    .dataframe thead th {\n",
       "        text-align: right;\n",
       "    }\n",
       "</style>\n",
       "<table border=\"1\" class=\"dataframe\">\n",
       "  <thead>\n",
       "    <tr style=\"text-align: right;\">\n",
       "      <th></th>\n",
       "      <th>tweet</th>\n",
       "      <th>proportion</th>\n",
       "    </tr>\n",
       "    <tr>\n",
       "      <th>class</th>\n",
       "      <th></th>\n",
       "      <th></th>\n",
       "    </tr>\n",
       "  </thead>\n",
       "  <tbody>\n",
       "    <tr>\n",
       "      <th>0</th>\n",
       "      <td>1430</td>\n",
       "      <td>5.77%</td>\n",
       "    </tr>\n",
       "    <tr>\n",
       "      <th>1</th>\n",
       "      <td>19190</td>\n",
       "      <td>77.43%</td>\n",
       "    </tr>\n",
       "    <tr>\n",
       "      <th>2</th>\n",
       "      <td>4163</td>\n",
       "      <td>16.80%</td>\n",
       "    </tr>\n",
       "  </tbody>\n",
       "</table>\n",
       "</div>"
      ],
      "text/plain": [
       "       tweet proportion\n",
       "class                  \n",
       "0       1430      5.77%\n",
       "1      19190     77.43%\n",
       "2       4163     16.80%"
      ]
     },
     "execution_count": 88,
     "metadata": {},
     "output_type": "execute_result"
    }
   ],
   "source": [
    "df_count = df.groupby(\"class\").count()\n",
    "df_count[\"proportion\"] = ((df_count[\"tweet\"] / df.shape[:1]) * 100).map('{:,.2f}%'.format)\n",
    "df_count[[\"tweet\", \"proportion\"]]"
   ]
  },
  {
   "cell_type": "code",
   "execution_count": 89,
   "id": "e4b04668",
   "metadata": {},
   "outputs": [
    {
     "data": {
      "image/png": "[encoded data removed]",
      "text/plain": [
       "<Figure size 432x288 with 1 Axes>"
      ]
     },
     "metadata": {
      "needs_background": "light"
     },
     "output_type": "display_data"
    }
   ],
   "source": [
    "df_count[\"tweet\"].plot.bar()\n",
    "plt.xlabel(\"Kategória\")\n",
    "plt.xticks(rotation=0, horizontalalignment=\"center\")\n",
    "plt.show()"
   ]
  },
  {
   "cell_type": "markdown",
   "id": "4281b2a8",
   "metadata": {},
   "source": [
    "# NLP tasks"
   ]
  },
  {
   "cell_type": "markdown",
   "id": "37aabdc3",
   "metadata": {},
   "source": [
    "Preparatory steps"
   ]
  },
  {
   "cell_type": "code",
   "execution_count": 90,
   "id": "c773b080",
   "metadata": {},
   "outputs": [],
   "source": [
    "tokenizer = nltk.tokenize.TweetTokenizer()\n",
    "\n",
    "stop_words = set(nltk.corpus.stopwords.words(\"english\"))\n",
    "# add twitter words\n",
    "stop_words.add(\"rt\")\n",
    "stop_words.add(\"dm\")\n",
    "\n",
    "stemmer = nltk.stem.SnowballStemmer(\"english\")"
   ]
  },
  {
   "cell_type": "markdown",
   "id": "3adbf58d",
   "metadata": {},
   "source": [
    "Define preprocessing function. Tokenizes tweet given as a string input and keeps only tokens starting with character or hashtag and tokens that are links. Then stems the token."
   ]
  },
  {
   "cell_type": "code",
   "execution_count": 91,
   "id": "fffd40eb",
   "metadata": {},
   "outputs": [],
   "source": [
    "def preprocess(text):\n",
    "    text = str(text).lower()\n",
    "    tokens = []\n",
    "    for token in text.split():\n",
    "        token = stemmer.stem(token)\n",
    "        if (token not in stop_words) and (re.findall(r'^[a-z#]', token)) and not (re.findall(r'^http', token)):\n",
    "            token = re.sub('[^a-z0-9#]+', '', token)  \n",
    "            tokens.append(token)\n",
    "    return tokens"
   ]
  },
  {
   "cell_type": "markdown",
   "id": "8b368087",
   "metadata": {},
   "source": [
    "Apply preprocessing function. Get longest tweets token length. Drops any tweets that only contained irrelevant tokens."
   ]
  },
  {
   "cell_type": "code",
   "execution_count": 92,
   "id": "98406c77",
   "metadata": {
    "scrolled": true
   },
   "outputs": [
    {
     "data": {
      "text/html": [
       "<div>\n",
       "<style scoped>\n",
       "    .dataframe tbody tr th:only-of-type {\n",
       "        vertical-align: middle;\n",
       "    }\n",
       "\n",
       "    .dataframe tbody tr th {\n",
       "        vertical-align: top;\n",
       "    }\n",
       "\n",
       "    .dataframe thead th {\n",
       "        text-align: right;\n",
       "    }\n",
       "</style>\n",
       "<table border=\"1\" class=\"dataframe\">\n",
       "  <thead>\n",
       "    <tr style=\"text-align: right;\">\n",
       "      <th></th>\n",
       "      <th>class</th>\n",
       "      <th>tweet</th>\n",
       "      <th>tokenized</th>\n",
       "    </tr>\n",
       "  </thead>\n",
       "  <tbody>\n",
       "    <tr>\n",
       "      <th>0</th>\n",
       "      <td>2</td>\n",
       "      <td>!!! RT @mayasolovely: As a woman you shouldn't...</td>\n",
       "      <td>woman complain clean house man alway take tras...</td>\n",
       "    </tr>\n",
       "    <tr>\n",
       "      <th>1</th>\n",
       "      <td>1</td>\n",
       "      <td>!!!!! RT @mleew17: boy dats cold...tyga dwn ba...</td>\n",
       "      <td>boy dat coldtyga dwn bad cuffin dat hoe place</td>\n",
       "    </tr>\n",
       "    <tr>\n",
       "      <th>2</th>\n",
       "      <td>1</td>\n",
       "      <td>!!!!!!! RT @UrKindOfBrand Dawg!!!! RT @80sbaby...</td>\n",
       "      <td>dawg ever fuck bitch start cry confus shit</td>\n",
       "    </tr>\n",
       "    <tr>\n",
       "      <th>3</th>\n",
       "      <td>1</td>\n",
       "      <td>!!!!!!!!! RT @C_G_Anderson: @viva_based she lo...</td>\n",
       "      <td>look like tranni</td>\n",
       "    </tr>\n",
       "    <tr>\n",
       "      <th>4</th>\n",
       "      <td>1</td>\n",
       "      <td>!!!!!!!!!!!!! RT @ShenikaRoberts: The shit you...</td>\n",
       "      <td>shit hear might true might faker bitch told ya</td>\n",
       "    </tr>\n",
       "    <tr>\n",
       "      <th>...</th>\n",
       "      <td>...</td>\n",
       "      <td>...</td>\n",
       "      <td>...</td>\n",
       "    </tr>\n",
       "    <tr>\n",
       "      <th>24778</th>\n",
       "      <td>1</td>\n",
       "      <td>you's a muthaf***in lie &amp;#8220;@LifeAsKing: @2...</td>\n",
       "      <td>muthafin lie right tl trash now mine bibl scri...</td>\n",
       "    </tr>\n",
       "    <tr>\n",
       "      <th>24779</th>\n",
       "      <td>2</td>\n",
       "      <td>you've gone and broke the wrong heart baby, an...</td>\n",
       "      <td>youv gone broke wrong heart baby drove redneck...</td>\n",
       "    </tr>\n",
       "    <tr>\n",
       "      <th>24780</th>\n",
       "      <td>1</td>\n",
       "      <td>young buck wanna eat!!.. dat nigguh like I ain...</td>\n",
       "      <td>young buck wanna eat dat nigguh like aint fuck...</td>\n",
       "    </tr>\n",
       "    <tr>\n",
       "      <th>24781</th>\n",
       "      <td>1</td>\n",
       "      <td>youu got wild bitches tellin you lies</td>\n",
       "      <td>youu got wild bitch tellin lie</td>\n",
       "    </tr>\n",
       "    <tr>\n",
       "      <th>24782</th>\n",
       "      <td>2</td>\n",
       "      <td>~~Ruffled | Ntac Eileen Dahlia - Beautiful col...</td>\n",
       "      <td>ntac eileen dahlia beauti color combin pink or...</td>\n",
       "    </tr>\n",
       "  </tbody>\n",
       "</table>\n",
       "<p>24783 rows × 3 columns</p>\n",
       "</div>"
      ],
      "text/plain": [
       "       class                                              tweet  \\\n",
       "0          2  !!! RT @mayasolovely: As a woman you shouldn't...   \n",
       "1          1  !!!!! RT @mleew17: boy dats cold...tyga dwn ba...   \n",
       "2          1  !!!!!!! RT @UrKindOfBrand Dawg!!!! RT @80sbaby...   \n",
       "3          1  !!!!!!!!! RT @C_G_Anderson: @viva_based she lo...   \n",
       "4          1  !!!!!!!!!!!!! RT @ShenikaRoberts: The shit you...   \n",
       "...      ...                                                ...   \n",
       "24778      1  you's a muthaf***in lie &#8220;@LifeAsKing: @2...   \n",
       "24779      2  you've gone and broke the wrong heart baby, an...   \n",
       "24780      1  young buck wanna eat!!.. dat nigguh like I ain...   \n",
       "24781      1              youu got wild bitches tellin you lies   \n",
       "24782      2  ~~Ruffled | Ntac Eileen Dahlia - Beautiful col...   \n",
       "\n",
       "                                               tokenized  \n",
       "0      woman complain clean house man alway take tras...  \n",
       "1          boy dat coldtyga dwn bad cuffin dat hoe place  \n",
       "2             dawg ever fuck bitch start cry confus shit  \n",
       "3                                       look like tranni  \n",
       "4         shit hear might true might faker bitch told ya  \n",
       "...                                                  ...  \n",
       "24778  muthafin lie right tl trash now mine bibl scri...  \n",
       "24779  youv gone broke wrong heart baby drove redneck...  \n",
       "24780  young buck wanna eat dat nigguh like aint fuck...  \n",
       "24781                     youu got wild bitch tellin lie  \n",
       "24782  ntac eileen dahlia beauti color combin pink or...  \n",
       "\n",
       "[24783 rows x 3 columns]"
      ]
     },
     "execution_count": 92,
     "metadata": {},
     "output_type": "execute_result"
    }
   ],
   "source": [
    "tokens = [preprocess(t) for t in df[\"tweet\"]]\n",
    "max_len = len(max(tokens, key=len))\n",
    "df[\"tokenized\"] = [\" \".join(t) for t in tokens]\n",
    "df.dropna(subset=['tokenized'], inplace=True)\n",
    "df"
   ]
  },
  {
   "cell_type": "markdown",
   "id": "65fe690f",
   "metadata": {},
   "source": [
    "Turn texts to sequences of integers."
   ]
  },
  {
   "cell_type": "code",
   "execution_count": 125,
   "id": "ff5dd8bb",
   "metadata": {},
   "outputs": [
    {
     "data": {
      "text/plain": [
       "array([[  0,   0,   0,   0,   0,   0,   0,   0,   0,   0,   0,   0,   0,\n",
       "          0,   0,   0,   0,   0, 268, 617, 556, 976,  32,  96,  59,  13,\n",
       "        325]], dtype=int32)"
      ]
     },
     "execution_count": 125,
     "metadata": {},
     "output_type": "execute_result"
    }
   ],
   "source": [
    "tokenizer = Tokenizer()\n",
    "tweets = list(df[\"tokenized\"])\n",
    "tokenizer.fit_on_texts(tweets)\n",
    "tweets = tokenizer.texts_to_sequences(tweets)\n",
    "tweets = pad_sequences(tweets, maxlen=(max_len))\n",
    "tweets[:1]"
   ]
  },
  {
   "cell_type": "markdown",
   "id": "8ce3fcf1",
   "metadata": {},
   "source": [
    "Import GloVe vectors from txt file into embeddings_index dictionary"
   ]
  },
  {
   "cell_type": "code",
   "execution_count": 94,
   "id": "eadbeca6",
   "metadata": {},
   "outputs": [],
   "source": [
    "#https://keras.io/examples/nlp/pretrained_word_embeddings/\n",
    "embeddings_index = {}\n",
    "with open('glove.6B/glove.6B.50d.txt') as f:\n",
    "    for line in f:\n",
    "        word, coefs = line.split(maxsplit=1)\n",
    "        coefs = np.fromstring(coefs, \"f\", sep=\" \")\n",
    "        embeddings_index[word] = coefs"
   ]
  },
  {
   "cell_type": "markdown",
   "id": "ac6153d1",
   "metadata": {},
   "source": [
    "Create embedding matrix "
   ]
  },
  {
   "cell_type": "code",
   "execution_count": 95,
   "id": "27adf9d3",
   "metadata": {
    "scrolled": true
   },
   "outputs": [
    {
     "name": "stdout",
     "output_type": "stream",
     "text": [
      "Converted 11599 words (7946 misses)\n"
     ]
    }
   ],
   "source": [
    "vocab_size = len(tokenizer.word_index) + 1\n",
    "embedding_dim = 50\n",
    "embedding_matrix = np.zeros((vocab_size, embedding_dim))\n",
    "hits = 0\n",
    "misses = 0\n",
    "\n",
    "for t, i in tokenizer.word_index.items():\n",
    "    embedding_vector = embeddings_index.get(t)\n",
    "    if embedding_vector is not None:\n",
    "        embedding_matrix[i] = embedding_vector\n",
    "        hits += 1\n",
    "    else:\n",
    "        misses += 1\n",
    "print(\"Converted %d words (%d misses)\" % (hits, misses))"
   ]
  },
  {
   "cell_type": "markdown",
   "id": "1a83e1ac",
   "metadata": {},
   "source": [
    "Pad sequences to same length, split data into train and test subsets.\n",
    "Training data = 90%\n",
    "Validation data = 10%"
   ]
  },
  {
   "cell_type": "code",
   "execution_count": 96,
   "id": "2171645a",
   "metadata": {
    "scrolled": false
   },
   "outputs": [
    {
     "data": {
      "text/plain": [
       "(22304, 27)"
      ]
     },
     "execution_count": 96,
     "metadata": {},
     "output_type": "execute_result"
    }
   ],
   "source": [
    "X_train, X_validate, y_train, y_validate = train_test_split(\n",
    "    tweets, df[\"class\"], train_size=0.9, random_state=42, stratify=df[\"class\"])\n",
    "X_train.shape"
   ]
  },
  {
   "cell_type": "markdown",
   "id": "2cf84c78",
   "metadata": {},
   "source": [
    "Build CNN model with 3 convolutional layers"
   ]
  },
  {
   "cell_type": "markdown",
   "id": "6e55bd4d",
   "metadata": {},
   "source": [
    "Train model"
   ]
  },
  {
   "cell_type": "code",
   "execution_count": 150,
   "id": "84b08106",
   "metadata": {
    "scrolled": false
   },
   "outputs": [
    {
     "name": "stdout",
     "output_type": "stream",
     "text": [
      "Model: \"sequential_15\"\n",
      "_________________________________________________________________\n",
      "Layer (type)                 Output Shape              Param #   \n",
      "=================================================================\n",
      "embedding_15 (Embedding)     (None, 27, 50)            977300    \n",
      "_________________________________________________________________\n",
      "conv1d_30 (Conv1D)           (None, 27, 32)            4832      \n",
      "_________________________________________________________________\n",
      "max_pooling1d_30 (MaxPooling (None, 13, 32)            0         \n",
      "_________________________________________________________________\n",
      "dropout_44 (Dropout)         (None, 13, 32)            0         \n",
      "_________________________________________________________________\n",
      "conv1d_31 (Conv1D)           (None, 13, 32)            3104      \n",
      "_________________________________________________________________\n",
      "max_pooling1d_31 (MaxPooling (None, 6, 32)             0         \n",
      "_________________________________________________________________\n",
      "dropout_45 (Dropout)         (None, 6, 32)             0         \n",
      "_________________________________________________________________\n",
      "flatten_15 (Flatten)         (None, 192)               0         \n",
      "_________________________________________________________________\n",
      "dense_29 (Dense)             (None, 64)                12352     \n",
      "_________________________________________________________________\n",
      "dropout_46 (Dropout)         (None, 64)                0         \n",
      "_________________________________________________________________\n",
      "dense_30 (Dense)             (None, 3)                 195       \n",
      "=================================================================\n",
      "Total params: 997,783\n",
      "Trainable params: 20,483\n",
      "Non-trainable params: 977,300\n",
      "_________________________________________________________________\n"
     ]
    }
   ],
   "source": [
    "model = Sequential()\n",
    "model.add(l.Embedding(vocab_size, embedding_dim, input_length=max_len, weights=[embedding_matrix], trainable=False))\n",
    "model.add(l.Conv1D(32, 3, padding='same', activation='relu', \n",
    "                   kernel_regularizer=l2(0.01),\n",
    "                   kernel_initializer='random_normal'))\n",
    "model.add(l.MaxPooling1D())\n",
    "model.add(l.Dropout(0.1))\n",
    "model.add(l.Conv1D(32, 3, padding='same', activation='relu',\n",
    "                   kernel_regularizer=l2(0.01),\n",
    "                   kernel_initializer='random_normal'))\n",
    "model.add(l.MaxPooling1D())\n",
    "model.add(l.Dropout(0.1)) \n",
    "model.add(l.Flatten())\n",
    "model.add(l.Dense(64, activation='relu', kernel_regularizer=l2(0.05)))\n",
    "model.add(l.Dropout(0.5)) \n",
    "model.add(l.Dense(3, activation='softmax'))\n",
    "\n",
    "model.compile(loss='sparse_categorical_crossentropy', \n",
    "              optimizer='adam', \n",
    "              metrics=['accuracy'])\n",
    "model.summary()"
   ]
  },
  {
   "cell_type": "code",
   "execution_count": 151,
   "id": "a111d97d",
   "metadata": {},
   "outputs": [],
   "source": [
    "early_stopping = EarlyStopping(monitor=\"val_loss\",\n",
    "                               min_delta=0,\n",
    "                               patience=5,\n",
    "                               verbose=1)"
   ]
  },
  {
   "cell_type": "code",
   "execution_count": null,
   "id": "111e191c",
   "metadata": {},
   "outputs": [
    {
     "name": "stdout",
     "output_type": "stream",
     "text": [
      "Train on 22304 samples, validate on 2479 samples\n",
      "Epoch 1/300\n",
      "22304/22304 [==============================] - 15s 678us/step - loss: 1.9744 - accuracy: 0.7691 - val_loss: 0.6377 - val_accuracy: 0.8165\n",
      "Epoch 2/300\n",
      "22304/22304 [==============================] - 14s 639us/step - loss: 0.5806 - accuracy: 0.8191 - val_loss: 0.5264 - val_accuracy: 0.8314\n",
      "Epoch 3/300\n",
      "22304/22304 [==============================] - 14s 635us/step - loss: 0.5372 - accuracy: 0.8268 - val_loss: 0.5091 - val_accuracy: 0.8403\n",
      "Epoch 4/300\n",
      "22304/22304 [==============================] - 14s 624us/step - loss: 0.5231 - accuracy: 0.8346 - val_loss: 0.4996 - val_accuracy: 0.8399\n",
      "Epoch 5/300\n",
      "22304/22304 [==============================] - 14s 622us/step - loss: 0.5100 - accuracy: 0.8409 - val_loss: 0.4913 - val_accuracy: 0.8411\n",
      "Epoch 6/300\n",
      "22304/22304 [==============================] - 14s 644us/step - loss: 0.5021 - accuracy: 0.8483 - val_loss: 0.4852 - val_accuracy: 0.8459\n",
      "Epoch 7/300\n",
      "22304/22304 [==============================] - 14s 622us/step - loss: 0.4964 - accuracy: 0.8498 - val_loss: 0.4796 - val_accuracy: 0.8487\n",
      "Epoch 8/300\n",
      "22304/22304 [==============================] - 14s 626us/step - loss: 0.4911 - accuracy: 0.8513 - val_loss: 0.4794 - val_accuracy: 0.8536\n",
      "Epoch 9/300\n",
      "22304/22304 [==============================] - 14s 637us/step - loss: 0.4854 - accuracy: 0.8540 - val_loss: 0.4802 - val_accuracy: 0.8524\n",
      "Epoch 10/300\n",
      "22304/22304 [==============================] - 14s 631us/step - loss: 0.4842 - accuracy: 0.8565 - val_loss: 0.4684 - val_accuracy: 0.8564\n",
      "Epoch 11/300\n",
      "22304/22304 [==============================] - 14s 632us/step - loss: 0.4802 - accuracy: 0.8566 - val_loss: 0.4694 - val_accuracy: 0.8576\n",
      "Epoch 12/300\n",
      "22304/22304 [==============================] - 14s 633us/step - loss: 0.4792 - accuracy: 0.8587 - val_loss: 0.4652 - val_accuracy: 0.8532\n",
      "Epoch 13/300\n",
      "22304/22304 [==============================] - 14s 623us/step - loss: 0.4764 - accuracy: 0.8589 - val_loss: 0.4716 - val_accuracy: 0.8556\n",
      "Epoch 14/300\n",
      "22304/22304 [==============================] - 14s 636us/step - loss: 0.4723 - accuracy: 0.8600 - val_loss: 0.4608 - val_accuracy: 0.8600\n",
      "Epoch 15/300\n",
      "22304/22304 [==============================] - 14s 633us/step - loss: 0.4721 - accuracy: 0.8597 - val_loss: 0.4619 - val_accuracy: 0.8592\n",
      "Epoch 16/300\n",
      "22304/22304 [==============================] - 14s 618us/step - loss: 0.4722 - accuracy: 0.8602 - val_loss: 0.4600 - val_accuracy: 0.8604\n",
      "Epoch 17/300\n",
      "22304/22304 [==============================] - 14s 629us/step - loss: 0.4644 - accuracy: 0.8629 - val_loss: 0.4577 - val_accuracy: 0.8624\n",
      "Epoch 18/300\n",
      "22304/22304 [==============================] - 14s 635us/step - loss: 0.4673 - accuracy: 0.8610 - val_loss: 0.4573 - val_accuracy: 0.8604\n",
      "Epoch 19/300\n",
      "22304/22304 [==============================] - 14s 625us/step - loss: 0.4638 - accuracy: 0.8650 - val_loss: 0.4527 - val_accuracy: 0.8633\n",
      "Epoch 20/300\n",
      "22304/22304 [==============================] - 14s 630us/step - loss: 0.4596 - accuracy: 0.8654 - val_loss: 0.4509 - val_accuracy: 0.8653\n",
      "Epoch 21/300\n",
      "22304/22304 [==============================] - 14s 627us/step - loss: 0.4601 - accuracy: 0.8641 - val_loss: 0.4541 - val_accuracy: 0.8596\n",
      "Epoch 22/300\n",
      "22304/22304 [==============================] - 14s 628us/step - loss: 0.4600 - accuracy: 0.8631 - val_loss: 0.4525 - val_accuracy: 0.8600\n",
      "Epoch 23/300\n",
      "22304/22304 [==============================] - 14s 630us/step - loss: 0.4578 - accuracy: 0.8655 - val_loss: 0.4505 - val_accuracy: 0.8637\n",
      "Epoch 24/300\n",
      "22304/22304 [==============================] - 14s 634us/step - loss: 0.4548 - accuracy: 0.8666 - val_loss: 0.4514 - val_accuracy: 0.8612\n",
      "Epoch 25/300\n",
      "22304/22304 [==============================] - 14s 635us/step - loss: 0.4565 - accuracy: 0.8677 - val_loss: 0.4511 - val_accuracy: 0.8645\n",
      "Epoch 26/300\n",
      "22304/22304 [==============================] - 14s 630us/step - loss: 0.4527 - accuracy: 0.8676 - val_loss: 0.4480 - val_accuracy: 0.8645\n",
      "Epoch 27/300\n",
      "22304/22304 [==============================] - 14s 637us/step - loss: 0.4520 - accuracy: 0.8674 - val_loss: 0.4497 - val_accuracy: 0.8588\n",
      "Epoch 28/300\n",
      "22304/22304 [==============================] - 14s 632us/step - loss: 0.4513 - accuracy: 0.8692 - val_loss: 0.4476 - val_accuracy: 0.8633\n",
      "Epoch 29/300\n",
      "22304/22304 [==============================] - 14s 619us/step - loss: 0.4524 - accuracy: 0.8688 - val_loss: 0.4477 - val_accuracy: 0.8588\n",
      "Epoch 30/300\n",
      "22304/22304 [==============================] - 14s 627us/step - loss: 0.4486 - accuracy: 0.8685 - val_loss: 0.4468 - val_accuracy: 0.8608\n",
      "Epoch 31/300\n",
      "22304/22304 [==============================] - 14s 625us/step - loss: 0.4496 - accuracy: 0.8676 - val_loss: 0.4454 - val_accuracy: 0.8620\n",
      "Epoch 32/300\n",
      "22304/22304 [==============================] - 14s 623us/step - loss: 0.4463 - accuracy: 0.8696 - val_loss: 0.4431 - val_accuracy: 0.8641\n",
      "Epoch 33/300\n",
      "22304/22304 [==============================] - 14s 624us/step - loss: 0.4454 - accuracy: 0.8699 - val_loss: 0.4441 - val_accuracy: 0.8628\n",
      "Epoch 34/300\n",
      "22304/22304 [==============================] - 14s 623us/step - loss: 0.4441 - accuracy: 0.8722 - val_loss: 0.4457 - val_accuracy: 0.8604\n",
      "Epoch 35/300\n",
      "22304/22304 [==============================] - 14s 635us/step - loss: 0.4450 - accuracy: 0.8689 - val_loss: 0.4536 - val_accuracy: 0.8572\n",
      "Epoch 36/300\n",
      "22304/22304 [==============================] - 14s 626us/step - loss: 0.4450 - accuracy: 0.8699 - val_loss: 0.4450 - val_accuracy: 0.8624\n",
      "Epoch 37/300\n",
      "22304/22304 [==============================] - 14s 629us/step - loss: 0.4433 - accuracy: 0.8703 - val_loss: 0.4426 - val_accuracy: 0.8653\n",
      "Epoch 38/300\n",
      "22304/22304 [==============================] - 14s 615us/step - loss: 0.4416 - accuracy: 0.8708 - val_loss: 0.4466 - val_accuracy: 0.8637\n",
      "Epoch 39/300\n",
      "22304/22304 [==============================] - 14s 625us/step - loss: 0.4410 - accuracy: 0.8710 - val_loss: 0.4424 - val_accuracy: 0.8637\n",
      "Epoch 40/300\n",
      "22304/22304 [==============================] - 14s 619us/step - loss: 0.4401 - accuracy: 0.8721 - val_loss: 0.4445 - val_accuracy: 0.8628\n",
      "Epoch 41/300\n",
      "22304/22304 [==============================] - 14s 623us/step - loss: 0.4384 - accuracy: 0.8726 - val_loss: 0.4439 - val_accuracy: 0.8620\n",
      "Epoch 42/300\n",
      "22304/22304 [==============================] - 14s 632us/step - loss: 0.4362 - accuracy: 0.8733 - val_loss: 0.4447 - val_accuracy: 0.8633\n",
      "Epoch 43/300\n",
      "22304/22304 [==============================] - 14s 627us/step - loss: 0.4363 - accuracy: 0.8725 - val_loss: 0.4399 - val_accuracy: 0.8620\n",
      "Epoch 44/300\n",
      "22304/22304 [==============================] - 14s 620us/step - loss: 0.4352 - accuracy: 0.8741 - val_loss: 0.4401 - val_accuracy: 0.8649\n",
      "Epoch 45/300\n",
      "22304/22304 [==============================] - 14s 628us/step - loss: 0.4378 - accuracy: 0.8727 - val_loss: 0.4395 - val_accuracy: 0.8665\n",
      "Epoch 46/300\n",
      "22304/22304 [==============================] - 14s 624us/step - loss: 0.4341 - accuracy: 0.8735 - val_loss: 0.4439 - val_accuracy: 0.8612\n",
      "Epoch 47/300\n",
      "22304/22304 [==============================] - 14s 628us/step - loss: 0.4338 - accuracy: 0.8758 - val_loss: 0.4402 - val_accuracy: 0.8624\n",
      "Epoch 48/300\n",
      "22304/22304 [==============================] - 14s 622us/step - loss: 0.4334 - accuracy: 0.8755 - val_loss: 0.4416 - val_accuracy: 0.8600\n",
      "Epoch 49/300\n",
      "22304/22304 [==============================] - 14s 627us/step - loss: 0.4364 - accuracy: 0.8741 - val_loss: 0.4433 - val_accuracy: 0.8641\n",
      "Epoch 50/300\n",
      "22304/22304 [==============================] - 14s 624us/step - loss: 0.4344 - accuracy: 0.8728 - val_loss: 0.4365 - val_accuracy: 0.8653\n",
      "Epoch 51/300\n",
      "22304/22304 [==============================] - 14s 636us/step - loss: 0.4310 - accuracy: 0.8753 - val_loss: 0.4376 - val_accuracy: 0.8653\n",
      "Epoch 52/300\n",
      "13824/22304 [=================>............] - ETA: 5s - loss: 0.4340 - accuracy: 0.8730"
     ]
    }
   ],
   "source": [
    "history = model.fit(X_train, \n",
    "                    y_train, \n",
    "                    batch_size=128, \n",
    "                    epochs=300, \n",
    "                    validation_data=(X_validate, y_validate), \n",
    "                    callbacks=[early_stopping])"
   ]
  },
  {
   "cell_type": "code",
   "execution_count": null,
   "id": "2bd8d284",
   "metadata": {},
   "outputs": [],
   "source": [
    "plt.plot(history.history['accuracy'])\n",
    "plt.plot(history.history['val_accuracy'])\n",
    "plt.ylabel('Pontosság')\n",
    "plt.xlabel('Iteráció')\n",
    "plt.legend(['tanító', 'teszt'], loc='upper left')\n",
    "plt.savefig('accuracy2.png')\n",
    "plt.show()"
   ]
  },
  {
   "cell_type": "code",
   "execution_count": null,
   "id": "5abe030c",
   "metadata": {},
   "outputs": [],
   "source": [
    "plt.plot(history.history['loss'])\n",
    "plt.plot(history.history['val_loss'])\n",
    "plt.ylabel('veszteség')\n",
    "plt.xlabel('Iteráció')\n",
    "plt.legend(['tanító', 'teszt'], loc='upper left')\n",
    "plt.ylim([0.4, 0.7])\n",
    "plt.savefig('loss2.png')\n",
    "plt.show()"
   ]
  },
  {
   "cell_type": "code",
   "execution_count": 102,
   "id": "488af233",
   "metadata": {
    "scrolled": true
   },
   "outputs": [
    {
     "name": "stdout",
     "output_type": "stream",
     "text": [
      "Script run took 0:17:58.567181 seconds\n"
     ]
    }
   ],
   "source": [
    "print('Script run took %s seconds' % (datetime.now() - startTime))"
   ]
  }
 ],
 "metadata": {
  "kernelspec": {
   "display_name": "Python 3",
   "language": "python",
   "name": "python3"
  },
  "language_info": {
   "codemirror_mode": {
    "name": "ipython",
    "version": 3
   },
   "file_extension": ".py",
   "mimetype": "text/x-python",
   "name": "python",
   "nbconvert_exporter": "python",
   "pygments_lexer": "ipython3",
   "version": "3.7.11"
  }
 },
 "nbformat": 4,
 "nbformat_minor": 5
}
